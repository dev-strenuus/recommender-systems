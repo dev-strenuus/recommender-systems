{
 "cells": [
  {
   "cell_type": "code",
   "execution_count": 37,
   "metadata": {},
   "outputs": [],
   "source": [
    "import builder\n",
    "import ItemCBFKNNRecommender as calc_sim\n",
    "import evaluation_function\n",
    "import hybridRecommender\n",
    "from evaluation_function import evaluate_algorithm\n",
    "from hybridRecommender import HybridRecommender\n"
   ]
  },
  {
   "cell_type": "code",
   "execution_count": 39,
   "metadata": {},
   "outputs": [],
   "source": [
    "b=builder.Builder()"
   ]
  },
  {
   "cell_type": "code",
   "execution_count": 18,
   "metadata": {},
   "outputs": [],
   "source": [
    "#b.train_test_holdout(0.8)"
   ]
  },
  {
   "cell_type": "code",
   "execution_count": 38,
   "metadata": {},
   "outputs": [
    {
     "data": {
      "text/plain": [
       "<module 'hybridRecommender' from '/home/strenuus/dev/recommender-systems/alternative-hybrid/hybridRecommender.py'>"
      ]
     },
     "execution_count": 38,
     "metadata": {},
     "output_type": "execute_result"
    }
   ],
   "source": [
    "import imp\n",
    "imp.reload(builder)\n",
    "imp.reload(calc_sim)\n",
    "imp.reload(evaluation_function)\n",
    "imp.reload(hybridRecommender)"
   ]
  },
  {
   "cell_type": "code",
   "execution_count": 40,
   "metadata": {},
   "outputs": [
    {
     "ename": "NotFittedError",
     "evalue": "This MultiLabelBinarizer instance is not fitted yet. Call 'fit' with appropriate arguments before using this method.",
     "output_type": "error",
     "traceback": [
      "\u001b[0;31m---------------------------------------------------------------------------\u001b[0m",
      "\u001b[0;31mNotFittedError\u001b[0m                            Traceback (most recent call last)",
      "\u001b[0;32m<ipython-input-40-5ce3b293438e>\u001b[0m in \u001b[0;36m<module>\u001b[0;34m()\u001b[0m\n\u001b[1;32m      1\u001b[0m \u001b[0;31m#b = builder.Builder()\u001b[0m\u001b[0;34m\u001b[0m\u001b[0;34m\u001b[0m\u001b[0m\n\u001b[1;32m      2\u001b[0m \u001b[0mURM_train\u001b[0m \u001b[0;34m=\u001b[0m \u001b[0mb\u001b[0m\u001b[0;34m.\u001b[0m\u001b[0mget_URM_train\u001b[0m\u001b[0;34m(\u001b[0m\u001b[0;34m)\u001b[0m\u001b[0;34m\u001b[0m\u001b[0m\n\u001b[0;32m----> 3\u001b[0;31m \u001b[0mURM_test\u001b[0m \u001b[0;34m=\u001b[0m \u001b[0mb\u001b[0m\u001b[0;34m.\u001b[0m\u001b[0mget_URM_test\u001b[0m\u001b[0;34m(\u001b[0m\u001b[0;34m)\u001b[0m\u001b[0;34m\u001b[0m\u001b[0m\n\u001b[0m",
      "\u001b[0;32m~/dev/recommender-systems/alternative-hybrid/builder.py\u001b[0m in \u001b[0;36mget_URM_test\u001b[0;34m(self)\u001b[0m\n\u001b[1;32m    109\u001b[0m     \u001b[0;32mdef\u001b[0m \u001b[0mget_URM_test\u001b[0m\u001b[0;34m(\u001b[0m\u001b[0mself\u001b[0m\u001b[0;34m)\u001b[0m\u001b[0;34m:\u001b[0m\u001b[0;34m\u001b[0m\u001b[0m\n\u001b[1;32m    110\u001b[0m         \u001b[0mgrouped\u001b[0m \u001b[0;34m=\u001b[0m \u001b[0mself\u001b[0m\u001b[0;34m.\u001b[0m\u001b[0mtest\u001b[0m\u001b[0;34m.\u001b[0m\u001b[0mgroupby\u001b[0m\u001b[0;34m(\u001b[0m\u001b[0;34m'playlist_id'\u001b[0m\u001b[0;34m,\u001b[0m \u001b[0mas_index\u001b[0m\u001b[0;34m=\u001b[0m\u001b[0;32mTrue\u001b[0m\u001b[0;34m)\u001b[0m\u001b[0;34m.\u001b[0m\u001b[0mapply\u001b[0m\u001b[0;34m(\u001b[0m\u001b[0;32mlambda\u001b[0m \u001b[0mx\u001b[0m\u001b[0;34m:\u001b[0m \u001b[0mlist\u001b[0m\u001b[0;34m(\u001b[0m\u001b[0mx\u001b[0m\u001b[0;34m[\u001b[0m\u001b[0;34m'track_id'\u001b[0m\u001b[0;34m]\u001b[0m\u001b[0;34m)\u001b[0m\u001b[0;34m)\u001b[0m\u001b[0;34m\u001b[0m\u001b[0m\n\u001b[0;32m--> 111\u001b[0;31m         \u001b[0mself\u001b[0m\u001b[0;34m.\u001b[0m\u001b[0mURM_test\u001b[0m \u001b[0;34m=\u001b[0m \u001b[0mMultiLabelBinarizer\u001b[0m\u001b[0;34m(\u001b[0m\u001b[0mclasses\u001b[0m\u001b[0;34m=\u001b[0m\u001b[0mself\u001b[0m\u001b[0;34m.\u001b[0m\u001b[0mget_tracks\u001b[0m\u001b[0;34m(\u001b[0m\u001b[0;34m)\u001b[0m\u001b[0;34m,\u001b[0m \u001b[0msparse_output\u001b[0m\u001b[0;34m=\u001b[0m\u001b[0;32mTrue\u001b[0m\u001b[0;34m)\u001b[0m\u001b[0;34m.\u001b[0m\u001b[0mtransform\u001b[0m\u001b[0;34m(\u001b[0m\u001b[0mgrouped\u001b[0m\u001b[0;34m)\u001b[0m\u001b[0;34m\u001b[0m\u001b[0m\n\u001b[0m\u001b[1;32m    112\u001b[0m         \u001b[0;32mreturn\u001b[0m \u001b[0mself\u001b[0m\u001b[0;34m.\u001b[0m\u001b[0mURM_test\u001b[0m\u001b[0;34m\u001b[0m\u001b[0m\n\u001b[1;32m    113\u001b[0m \u001b[0;34m\u001b[0m\u001b[0m\n",
      "\u001b[0;32m~/Utilities/anaconda3/lib/python3.7/site-packages/sklearn/preprocessing/label.py\u001b[0m in \u001b[0;36mtransform\u001b[0;34m(self, y)\u001b[0m\n\u001b[1;32m    760\u001b[0m             \u001b[0;31m`\u001b[0m\u001b[0my\u001b[0m\u001b[0;34m[\u001b[0m\u001b[0mi\u001b[0m\u001b[0;34m]\u001b[0m\u001b[0;31m`\u001b[0m\u001b[0;34m,\u001b[0m \u001b[0;32mand\u001b[0m \u001b[0;36m0\u001b[0m \u001b[0motherwise\u001b[0m\u001b[0;34m.\u001b[0m\u001b[0;34m\u001b[0m\u001b[0m\n\u001b[1;32m    761\u001b[0m         \"\"\"\n\u001b[0;32m--> 762\u001b[0;31m         \u001b[0mcheck_is_fitted\u001b[0m\u001b[0;34m(\u001b[0m\u001b[0mself\u001b[0m\u001b[0;34m,\u001b[0m \u001b[0;34m'classes_'\u001b[0m\u001b[0;34m)\u001b[0m\u001b[0;34m\u001b[0m\u001b[0m\n\u001b[0m\u001b[1;32m    763\u001b[0m \u001b[0;34m\u001b[0m\u001b[0m\n\u001b[1;32m    764\u001b[0m         \u001b[0mclass_to_index\u001b[0m \u001b[0;34m=\u001b[0m \u001b[0mdict\u001b[0m\u001b[0;34m(\u001b[0m\u001b[0mzip\u001b[0m\u001b[0;34m(\u001b[0m\u001b[0mself\u001b[0m\u001b[0;34m.\u001b[0m\u001b[0mclasses_\u001b[0m\u001b[0;34m,\u001b[0m \u001b[0mrange\u001b[0m\u001b[0;34m(\u001b[0m\u001b[0mlen\u001b[0m\u001b[0;34m(\u001b[0m\u001b[0mself\u001b[0m\u001b[0;34m.\u001b[0m\u001b[0mclasses_\u001b[0m\u001b[0;34m)\u001b[0m\u001b[0;34m)\u001b[0m\u001b[0;34m)\u001b[0m\u001b[0;34m)\u001b[0m\u001b[0;34m\u001b[0m\u001b[0m\n",
      "\u001b[0;32m~/Utilities/anaconda3/lib/python3.7/site-packages/sklearn/utils/validation.py\u001b[0m in \u001b[0;36mcheck_is_fitted\u001b[0;34m(estimator, attributes, msg, all_or_any)\u001b[0m\n\u001b[1;32m    766\u001b[0m \u001b[0;34m\u001b[0m\u001b[0m\n\u001b[1;32m    767\u001b[0m     \u001b[0;32mif\u001b[0m \u001b[0;32mnot\u001b[0m \u001b[0mall_or_any\u001b[0m\u001b[0;34m(\u001b[0m\u001b[0;34m[\u001b[0m\u001b[0mhasattr\u001b[0m\u001b[0;34m(\u001b[0m\u001b[0mestimator\u001b[0m\u001b[0;34m,\u001b[0m \u001b[0mattr\u001b[0m\u001b[0;34m)\u001b[0m \u001b[0;32mfor\u001b[0m \u001b[0mattr\u001b[0m \u001b[0;32min\u001b[0m \u001b[0mattributes\u001b[0m\u001b[0;34m]\u001b[0m\u001b[0;34m)\u001b[0m\u001b[0;34m:\u001b[0m\u001b[0;34m\u001b[0m\u001b[0m\n\u001b[0;32m--> 768\u001b[0;31m         \u001b[0;32mraise\u001b[0m \u001b[0mNotFittedError\u001b[0m\u001b[0;34m(\u001b[0m\u001b[0mmsg\u001b[0m \u001b[0;34m%\u001b[0m \u001b[0;34m{\u001b[0m\u001b[0;34m'name'\u001b[0m\u001b[0;34m:\u001b[0m \u001b[0mtype\u001b[0m\u001b[0;34m(\u001b[0m\u001b[0mestimator\u001b[0m\u001b[0;34m)\u001b[0m\u001b[0;34m.\u001b[0m\u001b[0m__name__\u001b[0m\u001b[0;34m}\u001b[0m\u001b[0;34m)\u001b[0m\u001b[0;34m\u001b[0m\u001b[0m\n\u001b[0m\u001b[1;32m    769\u001b[0m \u001b[0;34m\u001b[0m\u001b[0m\n\u001b[1;32m    770\u001b[0m \u001b[0;34m\u001b[0m\u001b[0m\n",
      "\u001b[0;31mNotFittedError\u001b[0m: This MultiLabelBinarizer instance is not fitted yet. Call 'fit' with appropriate arguments before using this method."
     ]
    }
   ],
   "source": [
    "#b = builder.Builder()\n",
    "URM_train = b.get_URM_train()\n",
    "URM_test = b.get_URM_test()"
   ]
  },
  {
   "cell_type": "code",
   "execution_count": 14,
   "metadata": {},
   "outputs": [
    {
     "ename": "NameError",
     "evalue": "name 'compute_similarity' is not defined",
     "output_type": "error",
     "traceback": [
      "\u001b[0;31m---------------------------------------------------------------------------\u001b[0m",
      "\u001b[0;31mNameError\u001b[0m                                 Traceback (most recent call last)",
      "\u001b[0;32m<ipython-input-14-0307679f80cb>\u001b[0m in \u001b[0;36m<module>\u001b[0;34m()\u001b[0m\n\u001b[0;32m----> 1\u001b[0;31m \u001b[0mcontentSimilarity\u001b[0m\u001b[0;34m,\u001b[0m \u001b[0mcollaborativeSimilarity\u001b[0m\u001b[0;34m,\u001b[0m \u001b[0muserbasedSimilarity\u001b[0m \u001b[0;34m=\u001b[0m \u001b[0mcompute_similarity\u001b[0m\u001b[0;34m(\u001b[0m\u001b[0;34m)\u001b[0m\u001b[0;34m\u001b[0m\u001b[0m\n\u001b[0m",
      "\u001b[0;31mNameError\u001b[0m: name 'compute_similarity' is not defined"
     ]
    }
   ],
   "source": [
    " contentSimilarity, collaborativeSimilarity, userbasedSimilarity = compute_similarity()"
   ]
  },
  {
   "cell_type": "code",
   "execution_count": 5,
   "metadata": {},
   "outputs": [],
   "source": [
    "def compute_similarity():\n",
    "    recommender = calc_sim.ItemCBFKNNRecommender(URM_train, b.get_ICM(0.7))#artist value\n",
    "    contentSimilarity = recommender.fit(shrink=0.0, topK=100)\n",
    "    recommender = calc_sim.ItemCBFKNNRecommender(URM_train, b.get_URM_transpose_train())\n",
    "    collaborativeSimilarity = recommender.fit(shrink=5.0, topK=100)\n",
    "    recommender = calc_sim.ItemCBFKNNRecommender(URM_train, b.get_URM_train())\n",
    "    userbasedSimilarity = recommender.fit(shrink=5.0, topK=100)\n",
    "    return contentSimilarity, collaborativeSimilarity, userbasedSimilarity\n",
    "\n",
    "def run_local(a, a1, a2):\n",
    "    return evaluate_algorithm(URM_test, HybridRecommender(contentSimilarity, collaborativeSimilarity, userbasedSimilarity, a, a1, a2, b),b)#content value,collaborative value\n",
    "\n",
    "def run_online(a, a1, a2):\n",
    "    print_to_csv(contentSimilarity, collaborativeSimilarity, userbasedSimilarity, a, a1, a2)\n",
    "\n",
    "def print_to_csv(contentSimilarity, collaborativeSimilarity, userbasedSimilarity, a, a1, a2):\n",
    "    file=open(\"hybrid-submission.csv\",'a')\n",
    "    file.write(\"playlist_id,track_ids\"+\"\\n\")\n",
    "    recommender = HybridRecommender(contentSimilarity, collaborativeSimilarity, userbasedSimilarity, a, a1, a2, b)\n",
    "    for playlist in b.get_ordered_target_playlists():\n",
    "        s = str(recommender.recommend1(playlist,b))\n",
    "        s = s[1:len(s)-1]\n",
    "        file.write(str(playlist)+\",\"+s+\"\\n\")\n",
    "    for playlist in b.get_unordered_target_playlists():\n",
    "        s = str(recommender.recommend1(playlist,b))\n",
    "        s = s[1:len(s)-1]\n",
    "        file.write(str(playlist)+\",\"+s+\"\\n\")"
   ]
  },
  {
   "cell_type": "code",
   "execution_count": null,
   "metadata": {},
   "outputs": [
    {
     "name": "stdout",
     "output_type": "stream",
     "text": [
      "0 0\n",
      "Recommender performance is: Precision = 0.1079, Recall = 0.2412, MAP = 0.1336\n",
      "{'precision': 0.10792000000000537, 'recall': 0.24116456626706562, 'MAP': 0.13362046792328064}\n",
      "0 1\n",
      "Recommender performance is: Precision = 0.1765, Recall = 0.4020, MAP = 0.2623\n",
      "{'precision': 0.17652999999999805, 'recall': 0.4019540798090811, 'MAP': 0.2623087162698429}\n",
      "0 2\n"
     ]
    }
   ],
   "source": [
    "for a in range(0, 5):\n",
    "    for a2 in range(0, 10):\n",
    "        print(str(a)+ \" \" + str(a2))\n",
    "        print(run_local(0.05+a*0.05, 1, 0.1+a2*0.7))"
   ]
  },
  {
   "cell_type": "code",
   "execution_count": 27,
   "metadata": {
    "scrolled": true
   },
   "outputs": [
    {
     "ename": "NameError",
     "evalue": "name 'run_local' is not defined",
     "output_type": "error",
     "traceback": [
      "\u001b[0;31m---------------------------------------------------------------------------\u001b[0m",
      "\u001b[0;31mNameError\u001b[0m                                 Traceback (most recent call last)",
      "\u001b[0;32m<ipython-input-27-7a9a679a044b>\u001b[0m in \u001b[0;36m<module>\u001b[0;34m()\u001b[0m\n\u001b[0;32m----> 1\u001b[0;31m \u001b[0mprint\u001b[0m\u001b[0;34m(\u001b[0m\u001b[0mrun_local\u001b[0m\u001b[0;34m(\u001b[0m\u001b[0;36m0.1\u001b[0m\u001b[0;34m,\u001b[0m \u001b[0;36m1\u001b[0m\u001b[0;34m,\u001b[0m \u001b[0;36m7\u001b[0m\u001b[0;34m)\u001b[0m\u001b[0;34m)\u001b[0m\u001b[0;34m\u001b[0m\u001b[0m\n\u001b[0m",
      "\u001b[0;31mNameError\u001b[0m: name 'run_local' is not defined"
     ]
    }
   ],
   "source": [
    "print(run_local(0.1, 1, 7))"
   ]
  },
  {
   "cell_type": "code",
   "execution_count": 34,
   "metadata": {},
   "outputs": [
    {
     "name": "stdout",
     "output_type": "stream",
     "text": [
      "[17920  5893 18190  5649  3483  2204   159 15650  1063 19243  1461  7478\n",
      " 20023  2494  7109 13640 12493 17495  6620 12393  7660  1775 13424 13808\n",
      " 16890 18418 14714 15740]\n",
      "[15076 18956]\n",
      "       playlist_id  track_id\n",
      "0                3     18956\n",
      "1                3     15076\n",
      "2                6      1063\n",
      "3                6     17260\n",
      "4                6      8117\n",
      "5                6     13972\n",
      "6                6      9412\n",
      "7                6     11323\n",
      "8                7      8869\n",
      "9                7     13359\n",
      "10               7     15296\n",
      "11               7     17114\n",
      "12               7      3767\n",
      "13               7      5668\n",
      "14               7     15640\n",
      "15              17      7490\n",
      "16              17     12395\n",
      "17              17     14370\n",
      "18              17     12071\n",
      "19              17       724\n",
      "20              17      1441\n",
      "21              17      6624\n",
      "22              17     18645\n",
      "23              18     10059\n",
      "24              18      3264\n",
      "25              18     20480\n",
      "26              19     19022\n",
      "27              19      3929\n",
      "28              19       682\n",
      "29              20      4186\n",
      "...            ...       ...\n",
      "49928        50413      9792\n",
      "49929        50413     18820\n",
      "49930        50416     10654\n",
      "49931        50416     13040\n",
      "49932        50416      3650\n",
      "49933        50416     15302\n",
      "49934        50416     10838\n",
      "49935        50416     16749\n",
      "49936        50416      6732\n",
      "49937        50417      1472\n",
      "49938        50417     17454\n",
      "49939        50417      9388\n",
      "49940        50420       172\n",
      "49941        50420     12769\n",
      "49942        50424      6237\n",
      "49943        50424      4039\n",
      "49944        50424     16930\n",
      "49945        50424     12674\n",
      "49946        50424      8885\n",
      "49947        50424     20007\n",
      "49948        50424      1710\n",
      "49949        50424      6577\n",
      "49950        50424      7900\n",
      "49951        50424      5286\n",
      "49952        50424     18763\n",
      "49953        50424       520\n",
      "49954        50428     19400\n",
      "49955        50428     11302\n",
      "49956        50431      8539\n",
      "49957        50431     19091\n",
      "\n",
      "[49958 rows x 2 columns]\n"
     ]
    }
   ],
   "source": [
    "print(b.get_tracks_inside_playlist_train(7))\n",
    "print(URM_test.indices[URM_test.indptr[0]:URM_test.indptr[1]])\n",
    "print(b.test)"
   ]
  }
 ],
 "metadata": {
  "kernelspec": {
   "display_name": "Python 3",
   "language": "python",
   "name": "python3"
  },
  "language_info": {
   "codemirror_mode": {
    "name": "ipython",
    "version": 3
   },
   "file_extension": ".py",
   "mimetype": "text/x-python",
   "name": "python",
   "nbconvert_exporter": "python",
   "pygments_lexer": "ipython3",
   "version": "3.7.0"
  }
 },
 "nbformat": 4,
 "nbformat_minor": 2
}
