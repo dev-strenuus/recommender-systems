{
 "cells": [
  {
   "cell_type": "code",
   "execution_count": 99,
   "metadata": {},
   "outputs": [
    {
     "data": {
      "text/plain": [
       "<module 'hybridRecommender' from '/home/strenuus/dev/recommender-systems/alternative-hybrid/hybridRecommender.py'>"
      ]
     },
     "execution_count": 99,
     "metadata": {},
     "output_type": "execute_result"
    }
   ],
   "source": [
    "import builder\n",
    "import ItemCBFKNNRecommender as calc_sim\n",
    "import evaluation_function\n",
    "import hybridRecommender\n",
    "from evaluation_function import evaluate_algorithm\n",
    "from hybridRecommender import HybridRecommender\n",
    "import imp\n",
    "imp.reload(builder)\n",
    "imp.reload(calc_sim)\n",
    "imp.reload(evaluation_function)\n",
    "imp.reload(hybridRecommender)"
   ]
  },
  {
   "cell_type": "code",
   "execution_count": 93,
   "metadata": {},
   "outputs": [],
   "source": [
    "local = True\n",
    "b = builder.Builder(local)\n",
    "ICM = b.get_ICM(0.7)\n",
    "URM_train_transpose = b.get_URM_transpose_train()\n",
    "URM_train = b.get_URM_train()\n",
    "if local == True:\n",
    "    URM_test = b.get_URM_test()"
   ]
  },
  {
   "cell_type": "code",
   "execution_count": 101,
   "metadata": {},
   "outputs": [],
   "source": [
    "def compute_similarity():\n",
    "    recommender = calc_sim.ItemCBFKNNRecommender(URM_train, ICM)\n",
    "    contentSimilarity = recommender.fit(shrink=0.0, topK=100)\n",
    "    recommender = calc_sim.ItemCBFKNNRecommender(URM_train, URM_train_transpose)\n",
    "    collaborativeSimilarity = recommender.fit(shrink=5.0, topK=500)\n",
    "    recommender = calc_sim.ItemCBFKNNRecommender(URM_train, URM_train)\n",
    "    userbasedSimilarity = recommender.fit(shrink=5.0, topK=50)\n",
    "    return contentSimilarity, collaborativeSimilarity, userbasedSimilarity\n",
    "\n",
    "def run_local(a, a1, a2):\n",
    "    return evaluate_algorithm(URM_test, HybridRecommender(contentSimilarity, collaborativeSimilarity, userbasedSimilarity, a, a1, a2, b),b)#content value,collaborative value\n",
    "\n",
    "def run_online(a, a1, a2):\n",
    "    print_to_csv(contentSimilarity, collaborativeSimilarity, userbasedSimilarity, a, a1, a2)\n",
    "    \n",
    "def run(a, a1, a2):\n",
    "    if local == True:\n",
    "        run_local(a, a1, a2)\n",
    "    else:\n",
    "        run_online(a, a1, a2)\n",
    "\n",
    "def print_to_csv(contentSimilarity, collaborativeSimilarity, userbasedSimilarity, a, a1, a2):\n",
    "    file=open(\"hybrid-submission.csv\",'a')\n",
    "    file.write(\"playlist_id,track_ids\"+\"\\n\")\n",
    "    recommender = HybridRecommender(contentSimilarity, collaborativeSimilarity, userbasedSimilarity, a, a1, a2, b)\n",
    "    for playlist in b.get_ordered_target_playlists():\n",
    "        s = str(recommender.recommend1(playlist,b))\n",
    "        s = s[1:len(s)-1]\n",
    "        file.write(str(playlist)+\",\"+s+\"\\n\")\n",
    "    for playlist in b.get_unordered_target_playlists():\n",
    "        s = str(recommender.recommend1(playlist,b))\n",
    "        s = s[1:len(s)-1]\n",
    "        file.write(str(playlist)+\",\"+s+\"\\n\")"
   ]
  },
  {
   "cell_type": "code",
   "execution_count": 102,
   "metadata": {},
   "outputs": [
    {
     "name": "stdout",
     "output_type": "stream",
     "text": [
      "Similarity column 20600 ( 100 % ), 2682.45 column/sec, elapsed time 0.13 min\n",
      "Similarity column 16800 ( 81 % ), 559.56 column/sec, elapsed time 0.50 min\n",
      "Similarity column 20600 ( 100 % ), 561.90 column/sec, elapsed time 0.61 min\n",
      "Similarity column 18300 ( 36 % ), 606.98 column/sec, elapsed time 0.50 min\n",
      "Similarity column 36900 ( 73 % ), 613.44 column/sec, elapsed time 1.00 min\n",
      "Similarity column 50400 ( 100 % ), 616.11 column/sec, elapsed time 1.36 min\n"
     ]
    }
   ],
   "source": [
    " contentSimilarity, collaborativeSimilarity, userbasedSimilarity = compute_similarity()"
   ]
  },
  {
   "cell_type": "code",
   "execution_count": null,
   "metadata": {
    "scrolled": true
   },
   "outputs": [
    {
     "name": "stdout",
     "output_type": "stream",
     "text": [
      "[4492 13542 15779 15935 14765 20443 17154 5924 4052 5042]\n",
      "[ 3767  5668  8869 13359 15296 15640 17114]\n"
     ]
    }
   ],
   "source": [
    "run(0.3, 1, 0.65)"
   ]
  },
  {
   "cell_type": "code",
   "execution_count": null,
   "metadata": {},
   "outputs": [
    {
     "name": "stdout",
     "output_type": "stream",
     "text": [
      "0 0\n",
      "Recommender performance is: Precision = 0.1079, Recall = 0.2412, MAP = 0.1336\n",
      "{'precision': 0.10792000000000537, 'recall': 0.24116456626706562, 'MAP': 0.13362046792328064}\n",
      "0 1\n",
      "Recommender performance is: Precision = 0.1765, Recall = 0.4020, MAP = 0.2623\n",
      "{'precision': 0.17652999999999805, 'recall': 0.4019540798090811, 'MAP': 0.2623087162698429}\n",
      "0 2\n"
     ]
    }
   ],
   "source": [
    "for a in range(0, 5):\n",
    "    for a2 in range(0, 10):\n",
    "        print(str(a)+ \" \" + str(a2))\n",
    "        print(run_local(0.1+a*0.05, 1, 0.1+a2*0.07))"
   ]
  },
  {
   "cell_type": "code",
   "execution_count": 71,
   "metadata": {},
   "outputs": [
    {
     "name": "stdout",
     "output_type": "stream",
     "text": [
      "         playlist_id  track_id\n",
      "0                  0     14301\n",
      "1                  0      8360\n",
      "2                  0     12844\n",
      "3                  0     18397\n",
      "4                  0      1220\n",
      "5                  1     18466\n",
      "6                  1     16782\n",
      "7                  1      7545\n",
      "8                  1      8248\n",
      "9                  1     16866\n",
      "10                 1     12393\n",
      "11                 1     15681\n",
      "12                 1      5630\n",
      "13                 1     17346\n",
      "14                 1     12909\n",
      "15                 1      3368\n",
      "16                 1     20315\n",
      "17                 1     15701\n",
      "18                 1     11112\n",
      "19                 1     12768\n",
      "20                 1      3373\n",
      "21                 1     10220\n",
      "22                 1     11496\n",
      "23                 1     15413\n",
      "24                 1      8506\n",
      "25                 1     10465\n",
      "26                 1      2018\n",
      "27                 1      6560\n",
      "28                 1     20500\n",
      "29                 1     16663\n",
      "...              ...       ...\n",
      "1161803        50445     16869\n",
      "1161804        50445     14338\n",
      "1161805        50445     11572\n",
      "1161806        50445     15187\n",
      "1161807        50445     12278\n",
      "1161808        50445      3830\n",
      "1161809        50445     19431\n",
      "1161810        50445      6491\n",
      "1161811        50445     10591\n",
      "1161812        50445      1023\n",
      "1161813        50445      5606\n",
      "1161814        50445     10711\n",
      "1161815        50445      7545\n",
      "1161816        50445     11647\n",
      "1161817        50445      5141\n",
      "1161818        50445     14301\n",
      "1161819        50445      7077\n",
      "1161820        50445      9550\n",
      "1161821        50445      2151\n",
      "1161822        50445      1111\n",
      "1161823        50445      7465\n",
      "1161824        50445     19991\n",
      "1161825        50445      6472\n",
      "1161826        50445     12639\n",
      "1161827        50445      3001\n",
      "1161828        50445     20605\n",
      "1161829        50445      2272\n",
      "1161830        50445        28\n",
      "1161831        50445      1548\n",
      "1161832        50445      6971\n",
      "\n",
      "[1161833 rows x 2 columns]\n",
      "[12493 17495 13424  7109 14714 15650 15740   159 19243 17920  6620  1063\n",
      " 13808 20023  5893  3483  1775  7660  7478  5649  1461 18190  2494 16890\n",
      "  2204 12393 18418 13640]\n",
      "[ 3767  5668  8869 13359 15296 15640 17114]\n",
      "       playlist_id  track_id\n",
      "0                3     18956\n",
      "1                3     15076\n",
      "2                6      1063\n",
      "3                6     17260\n",
      "4                6      8117\n",
      "5                6     13972\n",
      "6                6      9412\n",
      "7                6     11323\n",
      "8                7      8869\n",
      "9                7     13359\n",
      "10               7     15296\n",
      "11               7     17114\n",
      "12               7      3767\n",
      "13               7      5668\n",
      "14               7     15640\n",
      "15              17      7490\n",
      "16              17     12395\n",
      "17              17     14370\n",
      "18              17     12071\n",
      "19              17       724\n",
      "20              17      1441\n",
      "21              17      6624\n",
      "22              17     18645\n",
      "23              18     10059\n",
      "24              18      3264\n",
      "25              18     20480\n",
      "26              19     19022\n",
      "27              19      3929\n",
      "28              19       682\n",
      "29              20      4186\n",
      "...            ...       ...\n",
      "49928        50413      9792\n",
      "49929        50413     18820\n",
      "49930        50416     10654\n",
      "49931        50416     13040\n",
      "49932        50416      3650\n",
      "49933        50416     15302\n",
      "49934        50416     10838\n",
      "49935        50416     16749\n",
      "49936        50416      6732\n",
      "49937        50417      1472\n",
      "49938        50417     17454\n",
      "49939        50417      9388\n",
      "49940        50420       172\n",
      "49941        50420     12769\n",
      "49942        50424      6237\n",
      "49943        50424      4039\n",
      "49944        50424     16930\n",
      "49945        50424     12674\n",
      "49946        50424      8885\n",
      "49947        50424     20007\n",
      "49948        50424      1710\n",
      "49949        50424      6577\n",
      "49950        50424      7900\n",
      "49951        50424      5286\n",
      "49952        50424     18763\n",
      "49953        50424       520\n",
      "49954        50428     19400\n",
      "49955        50428     11302\n",
      "49956        50431      8539\n",
      "49957        50431     19091\n",
      "\n",
      "[49958 rows x 2 columns]\n"
     ]
    }
   ],
   "source": [
    "print(b.train)\n",
    "print(b.get_tracks_inside_playlist_train(7))\n",
    "print(URM_test.indices[URM_test.indptr[7]:URM_test.indptr[8]])\n",
    "print(b.test)"
   ]
  },
  {
   "cell_type": "code",
   "execution_count": 72,
   "metadata": {},
   "outputs": [
    {
     "name": "stdout",
     "output_type": "stream",
     "text": [
      "  (3, 15076)\t1.0\n",
      "  (3, 18956)\t1.0\n",
      "  (6, 1063)\t1.0\n",
      "  (6, 8117)\t1.0\n",
      "  (6, 9412)\t1.0\n",
      "  (6, 11323)\t1.0\n",
      "  (6, 13972)\t1.0\n",
      "  (6, 17260)\t1.0\n",
      "  (7, 3767)\t1.0\n",
      "  (7, 5668)\t1.0\n",
      "  (7, 8869)\t1.0\n",
      "  (7, 13359)\t1.0\n",
      "  (7, 15296)\t1.0\n",
      "  (7, 15640)\t1.0\n",
      "  (7, 17114)\t1.0\n",
      "  (17, 724)\t1.0\n",
      "  (17, 1441)\t1.0\n",
      "  (17, 6624)\t1.0\n",
      "  (17, 7490)\t1.0\n",
      "  (17, 12071)\t1.0\n",
      "  (17, 12395)\t1.0\n",
      "  (17, 14370)\t1.0\n",
      "  (17, 18645)\t1.0\n",
      "  (18, 3264)\t1.0\n",
      "  (18, 10059)\t1.0\n",
      "  :\t:\n",
      "  (50416, 10838)\t1.0\n",
      "  (50416, 13040)\t1.0\n",
      "  (50416, 15302)\t1.0\n",
      "  (50416, 16749)\t1.0\n",
      "  (50417, 1472)\t1.0\n",
      "  (50417, 9388)\t1.0\n",
      "  (50417, 17454)\t1.0\n",
      "  (50420, 172)\t1.0\n",
      "  (50420, 12769)\t1.0\n",
      "  (50424, 520)\t1.0\n",
      "  (50424, 1710)\t1.0\n",
      "  (50424, 4039)\t1.0\n",
      "  (50424, 5286)\t1.0\n",
      "  (50424, 6237)\t1.0\n",
      "  (50424, 6577)\t1.0\n",
      "  (50424, 7900)\t1.0\n",
      "  (50424, 8885)\t1.0\n",
      "  (50424, 12674)\t1.0\n",
      "  (50424, 16930)\t1.0\n",
      "  (50424, 18763)\t1.0\n",
      "  (50424, 20007)\t1.0\n",
      "  (50428, 11302)\t1.0\n",
      "  (50428, 19400)\t1.0\n",
      "  (50431, 8539)\t1.0\n",
      "  (50431, 19091)\t1.0\n"
     ]
    }
   ],
   "source": [
    "print(URM_test)"
   ]
  },
  {
   "cell_type": "code",
   "execution_count": 24,
   "metadata": {},
   "outputs": [],
   "source": [
    "b=builder.Builder()"
   ]
  },
  {
   "cell_type": "code",
   "execution_count": 18,
   "metadata": {},
   "outputs": [],
   "source": [
    "#b.train_test_holdout(0.8)"
   ]
  },
  {
   "cell_type": "code",
   "execution_count": 49,
   "metadata": {},
   "outputs": [
    {
     "ename": "ValueError",
     "evalue": "could not broadcast input array from shape (2) into shape (1)",
     "output_type": "error",
     "traceback": [
      "\u001b[0;31m---------------------------------------------------------------------------\u001b[0m",
      "\u001b[0;31mValueError\u001b[0m                                Traceback (most recent call last)",
      "\u001b[0;32m<ipython-input-49-7d32639c35de>\u001b[0m in \u001b[0;36m<module>\u001b[0;34m()\u001b[0m\n\u001b[1;32m      1\u001b[0m \u001b[0;32mimport\u001b[0m \u001b[0mnumpy\u001b[0m \u001b[0;32mas\u001b[0m \u001b[0mnp\u001b[0m\u001b[0;34m\u001b[0m\u001b[0m\n\u001b[1;32m      2\u001b[0m \u001b[0ma\u001b[0m \u001b[0;34m=\u001b[0m \u001b[0mnp\u001b[0m\u001b[0;34m.\u001b[0m\u001b[0marray\u001b[0m\u001b[0;34m(\u001b[0m\u001b[0;34m[\u001b[0m\u001b[0;36m1\u001b[0m\u001b[0;34m,\u001b[0m\u001b[0;36m2\u001b[0m\u001b[0;34m,\u001b[0m\u001b[0;36m3\u001b[0m\u001b[0;34m]\u001b[0m\u001b[0;34m)\u001b[0m\u001b[0;34m\u001b[0m\u001b[0m\n\u001b[0;32m----> 3\u001b[0;31m \u001b[0ma\u001b[0m\u001b[0;34m[\u001b[0m\u001b[0;36m0\u001b[0m\u001b[0;34m:\u001b[0m\u001b[0;36m1\u001b[0m\u001b[0;34m]\u001b[0m \u001b[0;34m=\u001b[0m \u001b[0mnp\u001b[0m\u001b[0;34m.\u001b[0m\u001b[0marray\u001b[0m\u001b[0;34m(\u001b[0m\u001b[0;34m[\u001b[0m\u001b[0;36m4\u001b[0m\u001b[0;34m,\u001b[0m \u001b[0;36m4\u001b[0m\u001b[0;34m]\u001b[0m\u001b[0;34m)\u001b[0m\u001b[0;34m\u001b[0m\u001b[0m\n\u001b[0m\u001b[1;32m      4\u001b[0m \u001b[0mprint\u001b[0m\u001b[0;34m(\u001b[0m\u001b[0ma\u001b[0m\u001b[0;34m)\u001b[0m\u001b[0;34m\u001b[0m\u001b[0m\n",
      "\u001b[0;31mValueError\u001b[0m: could not broadcast input array from shape (2) into shape (1)"
     ]
    }
   ],
   "source": [
    "import numpy as np\n",
    "a = np.array([1,2,3])\n",
    "a[0:1] = np.array([4, 4])\n",
    "print(a)"
   ]
  }
 ],
 "metadata": {
  "kernelspec": {
   "display_name": "Python 3",
   "language": "python",
   "name": "python3"
  },
  "language_info": {
   "codemirror_mode": {
    "name": "ipython",
    "version": 3
   },
   "file_extension": ".py",
   "mimetype": "text/x-python",
   "name": "python",
   "nbconvert_exporter": "python",
   "pygments_lexer": "ipython3",
   "version": "3.7.0"
  }
 },
 "nbformat": 4,
 "nbformat_minor": 2
}
