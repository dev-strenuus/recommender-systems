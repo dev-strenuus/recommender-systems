{
 "cells": [
  {
   "cell_type": "code",
   "execution_count": 175,
   "metadata": {},
   "outputs": [],
   "source": [
    "import builder\n",
    "import ItemCBFKNNRecommender as calc_sim\n",
    "import evaluation_function\n",
    "import hybridRecommender\n",
    "from evaluation_function import evaluate_algorithm\n",
    "from hybridRecommender import HybridRecommender"
   ]
  },
  {
   "cell_type": "code",
   "execution_count": 176,
   "metadata": {},
   "outputs": [
    {
     "data": {
      "text/plain": [
       "<module 'hybridRecommender' from '/home/strenuus/dev/recommender-systems/hybrid/hybridRecommender.py'>"
      ]
     },
     "execution_count": 176,
     "metadata": {},
     "output_type": "execute_result"
    }
   ],
   "source": [
    "import imp\n",
    "imp.reload(builder)\n",
    "imp.reload(calc_sim)\n",
    "imp.reload(evaluation_function)\n",
    "imp.reload(hybridRecommender)"
   ]
  },
  {
   "cell_type": "code",
   "execution_count": 158,
   "metadata": {},
   "outputs": [],
   "source": [
    "b = builder.Builder()\n",
    "URM_train, URM_test = b.train_test_holdout(0.8)"
   ]
  },
  {
   "cell_type": "code",
   "execution_count": 166,
   "metadata": {},
   "outputs": [],
   "source": [
    "def compute_similarity():\n",
    "    recommender = calc_sim.ItemCBFKNNRecommender(URM_train, b.get_ICM(0.8))\n",
    "    contentSimilarity = recommender.fit(shrink=0.0, topK=500)\n",
    "    recommender = calc_sim.ItemCBFKNNRecommender(URM_train, b.get_URM_transpose())\n",
    "    collaborativeSimilarity = recommender.fit(shrink=8.0, topK=500)\n",
    "    return contentSimilarity, collaborativeSimilarity\n",
    "\n",
    "def run_local():\n",
    "    return evaluate_algorithm(URM_test, HybridRecommender(contentSimilarity, collaborativeSimilarity, 0.1, 1),b)\n",
    "\n",
    "def run_online():\n",
    "    print_to_csv(contentSimilarity, collaborativeSimilarity)\n",
    "\n",
    "def print_to_csv(contentSimilarity, collaborativeSimilarity):\n",
    "    file=open(\"hybrid-submission.csv\",'a')\n",
    "    file.write(\"playlist_id,track_ids\"+\"\\n\")\n",
    "    recommender = HybridRecommender(contentSimilarity, collaborativeSimilarity, 0.1, 1)\n",
    "    for playlist in b.get_ordered_target_playlists():\n",
    "        s = str(recommender.recommend1(playlist,b))\n",
    "        s = s[1:len(s)-1]\n",
    "        file.write(str(playlist)+\",\"+s+\"\\n\")\n",
    "    for playlist in b.get_unordered_target_playlists():\n",
    "        s = str(recommender.recommend1(playlist,b))\n",
    "        s = s[1:len(s)-1]\n",
    "        file.write(str(playlist)+\",\"+s+\"\\n\")"
   ]
  },
  {
   "cell_type": "code",
   "execution_count": 167,
   "metadata": {},
   "outputs": [
    {
     "name": "stdout",
     "output_type": "stream",
     "text": [
      "Similarity column 20600 ( 100 % ), 2174.44 column/sec, elapsed time 0.16 min\n",
      "Similarity column 12000 ( 58 % ), 397.77 column/sec, elapsed time 0.50 min\n",
      "Similarity column 20600 ( 100 % ), 421.84 column/sec, elapsed time 0.81 min\n"
     ]
    }
   ],
   "source": [
    "contentSimilarity, collaborativeSimilarity = compute_similarity()"
   ]
  },
  {
   "cell_type": "code",
   "execution_count": 174,
   "metadata": {},
   "outputs": [
    {
     "name": "stdout",
     "output_type": "stream",
     "text": [
      "ordered:0\n",
      "[[-1.1 17154]\n",
      " [-1.0372587922644425 13424]\n",
      " [-1.0197965230344495 5924]\n",
      " [-1.0082828136947766 8749]\n",
      " [-0.9599521681142068 4603]\n",
      " [-0.957826853506566 12311]\n",
      " [-0.9432515999155471 14765]\n",
      " [-0.9428210456687383 11233]\n",
      " [-0.9415795070099341 13542]\n",
      " [-0.920247591338454 20443]]\n",
      "[[-1.1 6424]\n",
      " [-0.9757338321692876 6984]\n",
      " [-0.1655676366208715 442]\n",
      " [-0.09411709828621377 2404]\n",
      " [-0.07927928081021274 5109]\n",
      " [-0.13275002422464532 8473]\n",
      " [-0.08909626878356497 12111]\n",
      " [-0.175869851357611 12424]\n",
      " [-0.1131448152491426 12568]\n",
      " [0 14235]\n",
      " [0 12579]]\n",
      "ordered:1000\n",
      "ordered:2000\n",
      "ordered:3000\n",
      "ordered:4000\n",
      "unordered:0\n",
      "unordered:1000\n",
      "unordered:2000\n",
      "unordered:3000\n",
      "unordered:4000\n",
      "Recommender performance is: Precision = 0.1148, Recall = 0.2512, MAP = 0.1392\n"
     ]
    },
    {
     "data": {
      "text/plain": [
       "{'precision': 0.11484000000000376,\n",
       " 'recall': 0.2512441847041835,\n",
       " 'MAP': 0.13917723966994197}"
      ]
     },
     "execution_count": 174,
     "metadata": {},
     "output_type": "execute_result"
    }
   ],
   "source": [
    "run_local()"
   ]
  },
  {
   "cell_type": "code",
   "execution_count": 127,
   "metadata": {},
   "outputs": [
    {
     "data": {
      "text/plain": [
       "array([ 1220,  8360, 12844, 14301, 18397,  2018,  3368], dtype=int32)"
      ]
     },
     "execution_count": 127,
     "metadata": {},
     "output_type": "execute_result"
    }
   ],
   "source": [
    "URM_train.indices[URM_test.indptr[7]:URM_test.indptr[8]]"
   ]
  }
 ],
 "metadata": {
  "kernelspec": {
   "display_name": "Python 3",
   "language": "python",
   "name": "python3"
  },
  "language_info": {
   "codemirror_mode": {
    "name": "ipython",
    "version": 3
   },
   "file_extension": ".py",
   "mimetype": "text/x-python",
   "name": "python",
   "nbconvert_exporter": "python",
   "pygments_lexer": "ipython3",
   "version": "3.7.0"
  }
 },
 "nbformat": 4,
 "nbformat_minor": 2
}
