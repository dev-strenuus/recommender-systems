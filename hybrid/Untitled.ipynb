{
 "cells": [
  {
   "cell_type": "code",
   "execution_count": 8,
   "metadata": {},
   "outputs": [],
   "source": [
    "import builder\n",
    "import ItemCBFKNNRecommender as calc_sim\n",
    "from evaluation_function import evaluate_algorithm \n",
    "from hybridRecommender import hybridRecommender\n",
    "\n",
    "class Main(object):\n",
    "    \n",
    "    def __init__(self):\n",
    "        self.b = builder.Builder()\n",
    "        self.URM_train, self.URM_test = self.b.train_test_holdout(0.8)\n",
    "\n",
    "\n",
    "    def run(self):\n",
    "        recommender = calc_sim.ItemCBFKNNRecommender(self.URM_train, self.b.get_ICM(0.8))\n",
    "        contentSimilarity = recommender.fit(shrink=0.0, topK=10)\n",
    "\n",
    "        recommender = calc_sim.ItemCBFKNNRecommender(self.URM_train, self.b.get_URM_transpose())\n",
    "        collaborativeSimilarity = recommender.fit(shrink=10.0, topK=500)\n",
    "\n",
    "        evaluate_algorithm(self.URM_test, hybridRecommender(contentSimilarity, collaborativeSimilarity, 0.2),self.b)\n",
    "\n",
    "    def print_to_csv():\n",
    "        pass\n"
   ]
  },
  {
   "cell_type": "code",
   "execution_count": 3,
   "metadata": {},
   "outputs": [],
   "source": [
    "m=Main()"
   ]
  },
  {
   "cell_type": "code",
   "execution_count": null,
   "metadata": {},
   "outputs": [
    {
     "name": "stdout",
     "output_type": "stream",
     "text": [
      "Similarity column 20600 ( 100 % ), 2275.90 column/sec, elapsed time 0.15 min\n"
     ]
    }
   ],
   "source": [
    "m.run()"
   ]
  }
 ],
 "metadata": {
  "kernelspec": {
   "display_name": "Python 3",
   "language": "python",
   "name": "python3"
  },
  "language_info": {
   "codemirror_mode": {
    "name": "ipython",
    "version": 3
   },
   "file_extension": ".py",
   "mimetype": "text/x-python",
   "name": "python",
   "nbconvert_exporter": "python",
   "pygments_lexer": "ipython3",
   "version": "3.7.0"
  }
 },
 "nbformat": 4,
 "nbformat_minor": 2
}
