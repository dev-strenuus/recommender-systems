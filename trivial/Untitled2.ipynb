{
 "cells": [
  {
   "cell_type": "code",
   "execution_count": 15,
   "metadata": {},
   "outputs": [
    {
     "name": "stdout",
     "output_type": "stream",
     "text": [
      "2.332331657409668\n"
     ]
    }
   ],
   "source": [
    "import time\n",
    "import pandas as pd\n",
    "import numpy as np\n",
    "df = pd.read_csv('input/train.csv')\n",
    "size = df.loc[df['track_id'].idxmax()]['track_id']\n",
    "playlistsForTrack = np.empty([size], dtype=set)\n",
    "for i in range(size):\n",
    "    playlistsForTrack[i] = set(df[df['track_id']==i]['playlist_id'])\n",
    "fun(playlistsForTrack, size)"
   ]
  },
  {
   "cell_type": "code",
   "execution_count": null,
   "metadata": {},
   "outputs": [
    {
     "name": "stdout",
     "output_type": "stream",
     "text": [
      "0 5.4836273193359375e-06\n",
      "1000 11.572845458984375\n",
      "2000 23.375815391540527\n",
      "3000 35.34746193885803\n",
      "4000 47.299681425094604\n",
      "5000 60.5737738609314\n",
      "6000 73.40590047836304\n",
      "7000 86.49402666091919\n",
      "8000 99.71980571746826\n",
      "9000 113.7395350933075\n",
      "10000 126.28960371017456\n",
      "11000 138.45247602462769\n",
      "12000 153.51419377326965\n"
     ]
    }
   ],
   "source": [
    "fun(playlistsForTrack, size)"
   ]
  },
  {
   "cell_type": "code",
   "execution_count": 88,
   "metadata": {},
   "outputs": [],
   "source": [
    "%%cython\n",
    "import time\n",
    "import pandas as pd\n",
    "cimport numpy as np\n",
    "import numpy as np\n",
    "def fun(playlistsForTrack, size):\n",
    "    cdef np.ndarray bestSimilarTracks = np.empty((size), dtype=object)\n",
    "    start_time = time.time()\n",
    "    cdef long i\n",
    "    cdef long j\n",
    "    cdef double den\n",
    "    cdef double similarity\n",
    "    for i in range(size):\n",
    "        if i%1000 == 0:\n",
    "            print(str(i)+\" \"+str(time.time()-start_time))\n",
    "        bestSimilarTracks[i] = np.empty((size, 2), dtype=object)\n",
    "        #bestSimilarTracks[i][i] = [0,i]\n",
    "        for j in range(i):\n",
    "            similarity = len(playlistsForTrack[i] & playlistsForTrack[j])\n",
    "            pass\n",
    "            #den = ((len(playlistsForTrack[i]))*(len(playlistsForTrack[j])))**0.5+10\n",
    "            #similarity = len(playlistsForTrack[i] & playlistsForTrack[j])/den\n",
    "            #bestSimilarTracks[i][j] = [-1*similarity, j]\n",
    "        for j in range(i+1, size):\n",
    "            similarity = len(playlistsForTrack[i] & playlistsForTrack[j])\n",
    "            pass\n",
    "            #den = ((len(playlistsForTrack[i]))*(len(playlistsForTrack[j])))**0.5+10\n",
    "            #similarity = len(playlistsForTrack[i] & playlistsForTrack[j])/den\n",
    "            #bestSimilarTracks[i][j] = [-1*similarity, j]\n",
    "        #bestSimilarTracks[i] = bestSimilarTracks[i][bestSimilarTracks[i][:,0].argsort()]\n",
    "        #bestSimilarTracks[i] = bestSimilarTracks[i][bestSimilarTracks[i][:,0] !=0]#[:,1]\n",
    "        #bestSimilarTracks[i][:,0] = -1*bestSimilarTracks[i][:,0]\n",
    "    print(time.time()-start_time)\n"
   ]
  },
  {
   "cell_type": "code",
   "execution_count": 55,
   "metadata": {},
   "outputs": [
    {
     "name": "stdout",
     "output_type": "stream",
     "text": [
      "The line_profiler extension is already loaded. To reload it, use:\n",
      "  %reload_ext line_profiler\n"
     ]
    },
    {
     "name": "stderr",
     "output_type": "stream",
     "text": [
      "/home/strenuus/Utilities/anaconda3/lib/python3.7/site-packages/line_profiler.py:321: UserWarning: Could not extract a code object for the object <built-in function fun>\n",
      "  profile = LineProfiler(*funcs)\n"
     ]
    },
    {
     "name": "stdout",
     "output_type": "stream",
     "text": [
      "2.0038533210754395\n"
     ]
    }
   ],
   "source": [
    "%load_ext line_profiler\n",
    "%lprun -f fun fun(playlistsForTrack, size)"
   ]
  }
 ],
 "metadata": {
  "kernelspec": {
   "display_name": "Python 3",
   "language": "python",
   "name": "python3"
  },
  "language_info": {
   "codemirror_mode": {
    "name": "ipython",
    "version": 3
   },
   "file_extension": ".py",
   "mimetype": "text/x-python",
   "name": "python",
   "nbconvert_exporter": "python",
   "pygments_lexer": "ipython3",
   "version": "3.7.0"
  }
 },
 "nbformat": 4,
 "nbformat_minor": 2
}
