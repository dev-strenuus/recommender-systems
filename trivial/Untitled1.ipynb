{
 "cells": [
  {
   "cell_type": "code",
   "execution_count": 144,
   "metadata": {},
   "outputs": [
    {
     "ename": "KeyboardInterrupt",
     "evalue": "",
     "output_type": "error",
     "traceback": [
      "\u001b[0;31m---------------------------------------------------------------------------\u001b[0m",
      "\u001b[0;31mKeyboardInterrupt\u001b[0m                         Traceback (most recent call last)",
      "\u001b[0;32m<ipython-input-144-0002cda7fd27>\u001b[0m in \u001b[0;36m<module>\u001b[0;34m()\u001b[0m\n\u001b[0;32m----> 1\u001b[0;31m \u001b[0mget_ipython\u001b[0m\u001b[0;34m(\u001b[0m\u001b[0;34m)\u001b[0m\u001b[0;34m.\u001b[0m\u001b[0mrun_cell_magic\u001b[0m\u001b[0;34m(\u001b[0m\u001b[0;34m'cython'\u001b[0m\u001b[0;34m,\u001b[0m \u001b[0;34m''\u001b[0m\u001b[0;34m,\u001b[0m \u001b[0;34m\"import pandas as pd\\nimport numpy as np\\ndf = pd.read_csv('input/train.csv')\\nsize = df.loc[df['track_id'].idxmax()]['track_id']\\nplaylistsForTrack = np.empty([size], dtype=set)\\nfor i in range(size):\\n    playlistsForTrack[i] = set(df[df['track_id']==i]['playlist_id'])\\nbestSimilarTracks = np.empty((size), dtype=object)\\nfor i in range(size):\\n    bestSimilarTracks[i] = np.empty((size, 2), dtype=object)\\n    bestSimilarTracks[i][i] = [0,i]\\n    for j in range(i):\\n        den = ((len(playlistsForTrack[i]))*(len(playlistsForTrack[j])))**0.5+10\\n        similarity = len(playlistsForTrack[i] & playlistsForTrack[j])/den\\n        bestSimilarTracks[i][j] = [-1*similarity, j]\\n    for j in range(i+1, size):\\n        den = ((len(playlistsForTrack[i]))*(len(playlistsForTrack[j])))**0.5+10\\n        similarity = len(playlistsForTrack[i] & playlistsForTrack[j])/den\\n        bestSimilarTracks[i][j] = [-1*similarity, j]\\n    #bestSimilarTracks[i] = bestSimilarTracks[i][bestSimilarTracks[i][:,0].argsort()]\\n    bestSimilarTracks[i] = bestSimilarTracks[i][bestSimilarTracks[i][:,0] !=0]#[:,1]\\n    bestSimilarTracks[i][:,0] = -1*bestSimilarTracks[i][:,0]\\ndf1 = pd.read_csv('input/target_playlists.csv')\\nplaylists = np.array(df1['playlist_id'])\"\u001b[0m\u001b[0;34m)\u001b[0m\u001b[0;34m\u001b[0m\u001b[0m\n\u001b[0m",
      "\u001b[0;32m~/Utilities/anaconda3/lib/python3.7/site-packages/IPython/core/interactiveshell.py\u001b[0m in \u001b[0;36mrun_cell_magic\u001b[0;34m(self, magic_name, line, cell)\u001b[0m\n\u001b[1;32m   2165\u001b[0m             \u001b[0mmagic_arg_s\u001b[0m \u001b[0;34m=\u001b[0m \u001b[0mself\u001b[0m\u001b[0;34m.\u001b[0m\u001b[0mvar_expand\u001b[0m\u001b[0;34m(\u001b[0m\u001b[0mline\u001b[0m\u001b[0;34m,\u001b[0m \u001b[0mstack_depth\u001b[0m\u001b[0;34m)\u001b[0m\u001b[0;34m\u001b[0m\u001b[0m\n\u001b[1;32m   2166\u001b[0m             \u001b[0;32mwith\u001b[0m \u001b[0mself\u001b[0m\u001b[0;34m.\u001b[0m\u001b[0mbuiltin_trap\u001b[0m\u001b[0;34m:\u001b[0m\u001b[0;34m\u001b[0m\u001b[0m\n\u001b[0;32m-> 2167\u001b[0;31m                 \u001b[0mresult\u001b[0m \u001b[0;34m=\u001b[0m \u001b[0mfn\u001b[0m\u001b[0;34m(\u001b[0m\u001b[0mmagic_arg_s\u001b[0m\u001b[0;34m,\u001b[0m \u001b[0mcell\u001b[0m\u001b[0;34m)\u001b[0m\u001b[0;34m\u001b[0m\u001b[0m\n\u001b[0m\u001b[1;32m   2168\u001b[0m             \u001b[0;32mreturn\u001b[0m \u001b[0mresult\u001b[0m\u001b[0;34m\u001b[0m\u001b[0m\n\u001b[1;32m   2169\u001b[0m \u001b[0;34m\u001b[0m\u001b[0m\n",
      "\u001b[0;32m<decorator-gen-127>\u001b[0m in \u001b[0;36mcython\u001b[0;34m(self, line, cell)\u001b[0m\n",
      "\u001b[0;32m~/Utilities/anaconda3/lib/python3.7/site-packages/IPython/core/magic.py\u001b[0m in \u001b[0;36m<lambda>\u001b[0;34m(f, *a, **k)\u001b[0m\n\u001b[1;32m    185\u001b[0m     \u001b[0;31m# but it's overkill for just that one bit of state.\u001b[0m\u001b[0;34m\u001b[0m\u001b[0;34m\u001b[0m\u001b[0m\n\u001b[1;32m    186\u001b[0m     \u001b[0;32mdef\u001b[0m \u001b[0mmagic_deco\u001b[0m\u001b[0;34m(\u001b[0m\u001b[0marg\u001b[0m\u001b[0;34m)\u001b[0m\u001b[0;34m:\u001b[0m\u001b[0;34m\u001b[0m\u001b[0m\n\u001b[0;32m--> 187\u001b[0;31m         \u001b[0mcall\u001b[0m \u001b[0;34m=\u001b[0m \u001b[0;32mlambda\u001b[0m \u001b[0mf\u001b[0m\u001b[0;34m,\u001b[0m \u001b[0;34m*\u001b[0m\u001b[0ma\u001b[0m\u001b[0;34m,\u001b[0m \u001b[0;34m**\u001b[0m\u001b[0mk\u001b[0m\u001b[0;34m:\u001b[0m \u001b[0mf\u001b[0m\u001b[0;34m(\u001b[0m\u001b[0;34m*\u001b[0m\u001b[0ma\u001b[0m\u001b[0;34m,\u001b[0m \u001b[0;34m**\u001b[0m\u001b[0mk\u001b[0m\u001b[0;34m)\u001b[0m\u001b[0;34m\u001b[0m\u001b[0m\n\u001b[0m\u001b[1;32m    188\u001b[0m \u001b[0;34m\u001b[0m\u001b[0m\n\u001b[1;32m    189\u001b[0m         \u001b[0;32mif\u001b[0m \u001b[0mcallable\u001b[0m\u001b[0;34m(\u001b[0m\u001b[0marg\u001b[0m\u001b[0;34m)\u001b[0m\u001b[0;34m:\u001b[0m\u001b[0;34m\u001b[0m\u001b[0m\n",
      "\u001b[0;32m~/Utilities/anaconda3/lib/python3.7/site-packages/Cython/Build/IpythonMagic.py\u001b[0m in \u001b[0;36mcython\u001b[0;34m(self, line, cell)\u001b[0m\n\u001b[1;32m    329\u001b[0m                               quiet=args.quiet)\n\u001b[1;32m    330\u001b[0m \u001b[0;34m\u001b[0m\u001b[0m\n\u001b[0;32m--> 331\u001b[0;31m         \u001b[0mmodule\u001b[0m \u001b[0;34m=\u001b[0m \u001b[0mimp\u001b[0m\u001b[0;34m.\u001b[0m\u001b[0mload_dynamic\u001b[0m\u001b[0;34m(\u001b[0m\u001b[0mmodule_name\u001b[0m\u001b[0;34m,\u001b[0m \u001b[0mmodule_path\u001b[0m\u001b[0;34m)\u001b[0m\u001b[0;34m\u001b[0m\u001b[0m\n\u001b[0m\u001b[1;32m    332\u001b[0m         \u001b[0mself\u001b[0m\u001b[0;34m.\u001b[0m\u001b[0m_import_all\u001b[0m\u001b[0;34m(\u001b[0m\u001b[0mmodule\u001b[0m\u001b[0;34m)\u001b[0m\u001b[0;34m\u001b[0m\u001b[0m\n\u001b[1;32m    333\u001b[0m \u001b[0;34m\u001b[0m\u001b[0m\n",
      "\u001b[0;32m~/Utilities/anaconda3/lib/python3.7/imp.py\u001b[0m in \u001b[0;36mload_dynamic\u001b[0;34m(name, path, file)\u001b[0m\n\u001b[1;32m    341\u001b[0m         spec = importlib.machinery.ModuleSpec(\n\u001b[1;32m    342\u001b[0m             name=name, loader=loader, origin=path)\n\u001b[0;32m--> 343\u001b[0;31m         \u001b[0;32mreturn\u001b[0m \u001b[0m_load\u001b[0m\u001b[0;34m(\u001b[0m\u001b[0mspec\u001b[0m\u001b[0;34m)\u001b[0m\u001b[0;34m\u001b[0m\u001b[0m\n\u001b[0m\u001b[1;32m    344\u001b[0m \u001b[0;34m\u001b[0m\u001b[0m\n\u001b[1;32m    345\u001b[0m \u001b[0;32melse\u001b[0m\u001b[0;34m:\u001b[0m\u001b[0;34m\u001b[0m\u001b[0m\n",
      "\u001b[0;32m~/Utilities/anaconda3/lib/python3.7/importlib/_bootstrap.py\u001b[0m in \u001b[0;36m_load\u001b[0;34m(spec)\u001b[0m\n",
      "\u001b[0;32m~/Utilities/anaconda3/lib/python3.7/importlib/_bootstrap.py\u001b[0m in \u001b[0;36m_load_unlocked\u001b[0;34m(spec)\u001b[0m\n",
      "\u001b[0;32m~/Utilities/anaconda3/lib/python3.7/importlib/_bootstrap.py\u001b[0m in \u001b[0;36mmodule_from_spec\u001b[0;34m(spec)\u001b[0m\n",
      "\u001b[0;32m~/Utilities/anaconda3/lib/python3.7/importlib/_bootstrap_external.py\u001b[0m in \u001b[0;36mcreate_module\u001b[0;34m(self, spec)\u001b[0m\n",
      "\u001b[0;32m~/Utilities/anaconda3/lib/python3.7/importlib/_bootstrap.py\u001b[0m in \u001b[0;36m_call_with_frames_removed\u001b[0;34m(f, *args, **kwds)\u001b[0m\n",
      "\u001b[0;32m_cython_magic_55726c260bc659bebf81695f3fbb28b7.pyx\u001b[0m in \u001b[0;36minit _cython_magic_55726c260bc659bebf81695f3fbb28b7\u001b[0;34m()\u001b[0m\n",
      "\u001b[0;32m~/Utilities/anaconda3/lib/python3.7/site-packages/pandas/io/parsers.py\u001b[0m in \u001b[0;36mparser_f\u001b[0;34m(filepath_or_buffer, sep, delimiter, header, names, index_col, usecols, squeeze, prefix, mangle_dupe_cols, dtype, engine, converters, true_values, false_values, skipinitialspace, skiprows, nrows, na_values, keep_default_na, na_filter, verbose, skip_blank_lines, parse_dates, infer_datetime_format, keep_date_col, date_parser, dayfirst, iterator, chunksize, compression, thousands, decimal, lineterminator, quotechar, quoting, escapechar, comment, encoding, dialect, tupleize_cols, error_bad_lines, warn_bad_lines, skipfooter, doublequote, delim_whitespace, low_memory, memory_map, float_precision)\u001b[0m\n\u001b[1;32m    540\u001b[0m     \u001b[0mdefault_sep\u001b[0m \u001b[0;34m=\u001b[0m \u001b[0msep\u001b[0m\u001b[0;34m\u001b[0m\u001b[0m\n\u001b[1;32m    541\u001b[0m \u001b[0;34m\u001b[0m\u001b[0m\n\u001b[0;32m--> 542\u001b[0;31m     def parser_f(filepath_or_buffer,\n\u001b[0m\u001b[1;32m    543\u001b[0m                  \u001b[0msep\u001b[0m\u001b[0;34m=\u001b[0m\u001b[0msep\u001b[0m\u001b[0;34m,\u001b[0m\u001b[0;34m\u001b[0m\u001b[0m\n\u001b[1;32m    544\u001b[0m                  \u001b[0mdelimiter\u001b[0m\u001b[0;34m=\u001b[0m\u001b[0;32mNone\u001b[0m\u001b[0;34m,\u001b[0m\u001b[0;34m\u001b[0m\u001b[0m\n",
      "\u001b[0;31mKeyboardInterrupt\u001b[0m: "
     ]
    }
   ],
   "source": [
    "%%cython\n",
    "import pandas as pd\n",
    "import numpy as np\n",
    "df = pd.read_csv('input/train.csv')\n",
    "size = df.loc[df['track_id'].idxmax()]['track_id']\n",
    "playlistsForTrack = np.empty([size], dtype=set)\n",
    "for i in range(size):\n",
    "    playlistsForTrack[i] = set(df[df['track_id']==i]['playlist_id'])\n",
    "bestSimilarTracks = np.empty((size), dtype=object)\n",
    "for i in range(size):\n",
    "    bestSimilarTracks[i] = np.empty((size, 2), dtype=object)\n",
    "    bestSimilarTracks[i][i] = [0,i]\n",
    "    for j in range(i):\n",
    "        den = ((len(playlistsForTrack[i]))*(len(playlistsForTrack[j])))**0.5+10\n",
    "        similarity = len(playlistsForTrack[i] & playlistsForTrack[j])/den\n",
    "        bestSimilarTracks[i][j] = [-1*similarity, j]\n",
    "    for j in range(i+1, size):\n",
    "        den = ((len(playlistsForTrack[i]))*(len(playlistsForTrack[j])))**0.5+10\n",
    "        similarity = len(playlistsForTrack[i] & playlistsForTrack[j])/den\n",
    "        bestSimilarTracks[i][j] = [-1*similarity, j]\n",
    "    #bestSimilarTracks[i] = bestSimilarTracks[i][bestSimilarTracks[i][:,0].argsort()]\n",
    "    bestSimilarTracks[i] = bestSimilarTracks[i][bestSimilarTracks[i][:,0] !=0]#[:,1]\n",
    "    bestSimilarTracks[i][:,0] = -1*bestSimilarTracks[i][:,0]\n",
    "df1 = pd.read_csv('input/target_playlists.csv')\n",
    "playlists = np.array(df1['playlist_id'])"
   ]
  },
  {
   "cell_type": "code",
   "execution_count": null,
   "metadata": {},
   "outputs": [],
   "source": []
  },
  {
   "cell_type": "code",
   "execution_count": 140,
   "metadata": {},
   "outputs": [
    {
     "data": {
      "text/plain": [
       "array([[0.0018538864765089964, 3885],\n",
       "       [0.0018929798323194008, 13139],\n",
       "       [0.0019068380359916585, 6253],\n",
       "       ...,\n",
       "       [0.14032184030867112, 7545],\n",
       "       [0.14847033601055415, 4202],\n",
       "       [0.15418525433530875, 7077]], dtype=object)"
      ]
     },
     "execution_count": 140,
     "metadata": {},
     "output_type": "execute_result"
    }
   ],
   "source": [
    "bestSimilarTracks[1900][bestSimilarTracks[1900][:,0].argsort()]"
   ]
  },
  {
   "cell_type": "code",
   "execution_count": 55,
   "metadata": {},
   "outputs": [],
   "source": [
    "cont = -1\n",
    "for playlist in playlists:\n",
    "    cont = cont + 1\n",
    "    tracks = np.array(df[df['playlist_id']==playlist]['track_id'])\n",
    "    submission[cont][0] = playlist\n",
    "    tracksSet = set(tracks)\n",
    "    best = {}\n",
    "    for track in tracks:\n",
    "        for similar in bestSimilarTracks[track]:\n",
    "            if not similar[1] in tracksSet:\n",
    "                if similar[1] in best:\n",
    "                    best[similar[1]]=best[similar[1]]-similar[0]\n",
    "                else:\n",
    "                    best[similar[1]]=-1*similar[0]\n",
    "    preSorted = [[v, k] for k,v in best.items()]\n",
    "    best = np.empty((len(preSorted), 2), dtype=object)\n",
    "    for i in range(len(preSorted)):\n",
    "        best[i] = preSorted[i]\n",
    "    best = np.partition(best, 2, axis=0)[0:10]\n",
    "    best = np.sort(best, axis=1)[:,1]\n",
    "    submission[cont][1] = best\n",
    "df2 = pd.DataFrame(submission, columns=['playlist_id','track_ids'])\n",
    "df2.to_csv('solution.csv')"
   ]
  },
  {
   "cell_type": "code",
   "execution_count": 143,
   "metadata": {},
   "outputs": [],
   "source": [
    "%load_ext Cython"
   ]
  },
  {
   "cell_type": "code",
   "execution_count": 130,
   "metadata": {},
   "outputs": [],
   "source": [
    "import random\n",
    "submission = np.empty((len(playlists),2), dtype=object)\n",
    "cont = -1\n",
    "for playlist in playlists:\n",
    "    cont = cont + 1\n",
    "    tracks = np.array(df[df['playlist_id']==playlist]['track_id'])\n",
    "    submission[cont][0] = playlist\n",
    "    tracksSet = set(tracks)\n",
    "    best = {}\n",
    "    temp = 1\n",
    "    for track in tracks:\n",
    "        if cont < 5000:\n",
    "            temp -= 1/(len(tracks)+1)\n",
    "        for similar in bestSimilarTracks[track]:\n",
    "            if not similar[1] in tracksSet:\n",
    "                if similar[1] in best:\n",
    "                    best[similar[1]]=best[similar[1]]-similar[0]*temp\n",
    "                else:\n",
    "                    best[similar[1]]=-1*similar[0]*temp\n",
    "    preSorted = [[v, k] for k,v in best.items()]\n",
    "    best = np.empty((max(11,len(preSorted)), 2), dtype=object)\n",
    "    for i in range(len(preSorted)):\n",
    "        best[i] = preSorted[i]\n",
    "    if len(preSorted) < 11:\n",
    "        for i in range(len(preSorted), 11):\n",
    "            best[i] = [0, random.randint(0, 20000)]\n",
    "        print(best)\n",
    "    best = best[best[:,0].argpartition(10)][0:10]\n",
    "    best = best[best[:,0].argsort()][:,1]\n",
    "    best = str(best)\n",
    "    submission[cont][1] = best[1:len(best)-1]\n",
    "df2 = pd.DataFrame(submission, columns=['playlist_id','track_ids'])\n",
    "df2.to_csv('solution.csv', index=False)\n",
    "\n",
    "\t\n"
   ]
  },
  {
   "cell_type": "code",
   "execution_count": 110,
   "metadata": {},
   "outputs": [
    {
     "data": {
      "text/plain": [
       "'1, 2'"
      ]
     },
     "execution_count": 110,
     "metadata": {},
     "output_type": "execute_result"
    }
   ],
   "source": [
    "a = [1, 2]\n",
    "a\n",
    "str(a)[1:len(str(a))-1]"
   ]
  },
  {
   "cell_type": "code",
   "execution_count": null,
   "metadata": {},
   "outputs": [],
   "source": [
    "import pandas as pd\n",
    "import numpy as np\n",
    "df = pd.read_csv('input/train.csv')\n",
    "size = df.loc[df['track_id'].idxmax()]['track_id']\n",
    "playlistsForTrack = np.empty([size], dtype=set)\n",
    "for i in range(size):\n",
    "    playlistsForTrack[i] = set(df[df['track_id']==i]['playlist_id'])\n",
    "bestSimilarTracks = np.empty((size), dtype=object)"
   ]
  }
 ],
 "metadata": {
  "kernelspec": {
   "display_name": "Python 3",
   "language": "python",
   "name": "python3"
  },
  "language_info": {
   "codemirror_mode": {
    "name": "ipython",
    "version": 3
   },
   "file_extension": ".py",
   "mimetype": "text/x-python",
   "name": "python",
   "nbconvert_exporter": "python",
   "pygments_lexer": "ipython3",
   "version": "3.7.0"
  }
 },
 "nbformat": 4,
 "nbformat_minor": 2
}
